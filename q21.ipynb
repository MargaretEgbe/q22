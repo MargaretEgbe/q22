{
 "cells": [
  {
   "cell_type": "markdown",
   "id": "bc867741",
   "metadata": {},
   "source": [
    "# Questioin 21"
   ]
  },
  {
   "cell_type": "code",
   "execution_count": null,
   "id": "b9faca9f",
   "metadata": {},
   "outputs": [],
   "source": [
    "import sqlite3\n",
    "\n",
    "# Create a connection to the SQLite database (or create it if it doesn't exist)\n",
    "conn = sqlite3.connect('weather.db')\n",
    "\n",
    "# Create a cursor object to execute SQL queries\n",
    "cur = conn.cursor()\n",
    "\n",
    "# Define the Weather table schema and create the table\n",
    "cur.execute('''CREATE TABLE IF NOT EXISTS Weather (\n",
    "               id INTEGER PRIMARY KEY,\n",
    "               recordDate DATE,\n",
    "               temperature INTEGER\n",
    "               )''')\n",
    "\n",
    "# Insert data into the Weather table\n",
    "data = [\n",
    "    (1, '2015-01-01', 10),\n",
    "    (2, '2015-01-02', 25),\n",
    "    (3, '2015-01-03', 20),\n",
    "    (4, '2015-01-04', 30)\n",
    "]\n",
    "\n",
    "cur.executemany('INSERT INTO Weather (id, recordDate, temperature) VALUES (?, ?, ?)', data)\n",
    "\n",
    "# Commit the transaction\n",
    "conn.commit()\n",
    "\n",
    "# Execute the SQL query to find all dates' IDs with higher temperatures compared to their previous dates (yesterday)\n",
    "cur.execute('''\n",
    "    SELECT w1.id\n",
    "    FROM Weather w1\n",
    "    JOIN Weather w2 ON w1.recordDate = DATE(w2.recordDate, '-1 day')\n",
    "    WHERE w1.temperature > w2.temperature\n",
    "''')\n",
    "\n",
    "# Fetch and print the result\n",
    "result = cur.fetchall()\n",
    "print(result)\n",
    "\n",
    "# Close the cursor and connection\n",
    "cur.close()\n",
    "conn.close()"
   ]
  }
 ],
 "metadata": {
  "kernelspec": {
   "display_name": "Python 3 (ipykernel)",
   "language": "python",
   "name": "python3"
  },
  "language_info": {
   "codemirror_mode": {
    "name": "ipython",
    "version": 3
   },
   "file_extension": ".py",
   "mimetype": "text/x-python",
   "name": "python",
   "nbconvert_exporter": "python",
   "pygments_lexer": "ipython3",
   "version": "3.11.5"
  }
 },
 "nbformat": 4,
 "nbformat_minor": 5
}
